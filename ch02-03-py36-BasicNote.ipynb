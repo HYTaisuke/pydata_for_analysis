{
 "cells": [
  {
   "cell_type": "markdown",
   "metadata": {
    "ExecuteTime": {
     "end_time": "2019-02-27T02:14:27.395599Z",
     "start_time": "2019-02-27T02:14:27.382599Z"
    }
   },
   "source": [
    "## 第二章 Ipython & Jupyter  & Python 基础\n",
    "> 主要是书中有关Ipython和Jupyer 需要注意的地方；更详细的文档请参考其他资料（有道云笔记中已总结）\n",
    "\n",
    "### 1 Ipython Magic Order\n",
    "![](./datasets/magic_order.png)\n",
    "\n",
    "### 2 Ipython Keyboard \n",
    "![](./datasets/Ipython_keyboard.png)"
   ]
  },
  {
   "cell_type": "markdown",
   "metadata": {
    "ExecuteTime": {
     "end_time": "2019-02-27T03:23:07.865277Z",
     "start_time": "2019-02-27T03:23:07.448253Z"
    }
   },
   "source": [
    "## 第三章： Python的数据结构、函数和文件\n",
    "### 数据结构和序列 \n",
    "> 该部分书中讲述的过于简单，参考其他文档进行补充  \n",
    "\n",
    "- tuple：不可改变、可索引，元祖之间可运算（交叉并补）\n",
    "- list: 可改变，可切片，其余与tuple一样     \n",
    "- dict: 注意cellections模块的使用 和 反向key-value的构建\n",
    "- set: 无序list union/upadte | & issubset/issuperset difference \n",
    "\n",
    "> 补充：bisect模块 支持二分查找 和 **向已排序的列表插入值**，bisect.bisect可以找到插入值后仍保证排序的位置，bisect.insort是向这个位置插入值：其中插入的方法可以使用自带insert方法进行代替。  \n",
    "\n",
    "```python\n",
    "# bisect 模块的使用方法\n",
    "import bisect\n",
    "c = [1,2,2,2,3,4,7]\n",
    "\n",
    "bisect.bisect(c, 5) # 未改变原始list的值 返回的是插入该值之后的索引值 \n",
    "\n",
    "bisect.insort(c, 6) # insort_right方法的别名 在指定位置上插入， 如果未给出被插入的值 默认为索引值\n",
    "# help(bisect.insort_right)\n",
    "\n",
    "print(c)\n",
    "```\n",
    "\n",
    "\n",
    "### 序列函数\n",
    "- enumerate：返回索引和值       \n",
    "\n",
    "```python\n",
    "for (i, value) in enumerate(list_obj):\n",
    "    print(i, value)\n",
    "```         \n",
    "\n",
    "- sorted：list排序函数 书中讲述较少，具体参考help(sorted),尤其是key参数的设定       \n",
    "\n",
    "```python\n",
    "help(sorted)\n",
    "```    \n",
    "\n",
    "- zip：可以将多个列表、元组或其它序列成对组合成一个元组列表      \n",
    "\n",
    "```python\n",
    "seq1 = ['foo', 'bar', 'baz']\n",
    "seq2 = ['one', 'two', 'three']\n",
    "zipped = zip(seq1, seq2)\n",
    "list(zipped)\n",
    "\n",
    "out:[('foo', 'one'), ('bar', 'two'), ('baz', 'three')]\n",
    "```       \n",
    "\n",
    "- **reversed**: 反向迭代函数 返回序列倒向排序后每个元素的索引值      \n",
    "\n",
    "```python\n",
    "In [100]: list(reversed(range(10)))\n",
    "Out[100]: [9, 8, 7, 6, 5, 4, 3, 2, 1, 0]\n",
    "```   \n",
    "\n",
    "### 列表、集合、字典推导式\n",
    "- 列表推导式：[expr for val in collection if condition]  不使用与多条件判断 或者进行嵌套 \n",
    "- 集合、字典推导式：根据列表推导式变形而来  {key-expr : value-expr for value in collection if condition}  \n",
    "- 嵌套列表推导式：不建议使用 需两个list长度一致 否则容易越界 且可读性不好 [val1+val2 for val1 in list1 for val2 in list2 if condition] \n",
    "\n",
    "###  生成器与迭代器 \n",
    "> 主要是itertools模块使用(参考官网api) 和 yield关键字"
   ]
  },
  {
   "cell_type": "code",
   "execution_count": 20,
   "metadata": {
    "ExecuteTime": {
     "end_time": "2019-02-27T08:50:30.835790Z",
     "start_time": "2019-02-27T08:50:30.814789Z"
    }
   },
   "outputs": [
    {
     "data": {
      "text/plain": [
       "'E:\\\\jupyter-code\\\\1 Data Manager\\\\3 PythonForAnaly'"
      ]
     },
     "execution_count": 20,
     "metadata": {},
     "output_type": "execute_result"
    }
   ],
   "source": [
    "%pwd"
   ]
  },
  {
   "cell_type": "code",
   "execution_count": 15,
   "metadata": {
    "ExecuteTime": {
     "end_time": "2019-02-27T07:57:46.396795Z",
     "start_time": "2019-02-27T07:57:46.322791Z"
    }
   },
   "outputs": [
    {
     "name": "stdout",
     "output_type": "stream",
     "text": [
      "Help on built-in function sorted in module builtins:\n",
      "\n",
      "sorted(iterable, /, *, key=None, reverse=False)\n",
      "    Return a new list containing all items from the iterable in ascending order.\n",
      "    \n",
      "    A custom key function can be supplied to customize the sort order, and the\n",
      "    reverse flag can be set to request the result in descending order.\n",
      "\n"
     ]
    }
   ],
   "source": [
    "help(sorted)"
   ]
  },
  {
   "cell_type": "code",
   "execution_count": 22,
   "metadata": {
    "ExecuteTime": {
     "end_time": "2019-02-27T08:51:01.290532Z",
     "start_time": "2019-02-27T08:51:01.237529Z"
    }
   },
   "outputs": [
    {
     "data": {
      "text/plain": [
       "[('foo', 'one'), ('bar', 'two'), ('baz', 'three')]"
      ]
     },
     "execution_count": 22,
     "metadata": {},
     "output_type": "execute_result"
    }
   ],
   "source": [
    "seq1 = ['foo', 'bar', 'baz']\n",
    "seq2 = ['one', 'two', 'three']\n",
    "zipped = zip(seq1, seq2)\n",
    "\n",
    "list(zipped)"
   ]
  }
 ],
 "metadata": {
  "hide_input": false,
  "kernelspec": {
   "display_name": "python36",
   "language": "python",
   "name": "python36"
  },
  "language_info": {
   "codemirror_mode": {
    "name": "ipython",
    "version": 3
   },
   "file_extension": ".py",
   "mimetype": "text/x-python",
   "name": "python",
   "nbconvert_exporter": "python",
   "pygments_lexer": "ipython3",
   "version": "3.6.6"
  },
  "toc": {
   "nav_menu": {},
   "number_sections": true,
   "sideBar": true,
   "skip_h1_title": false,
   "title_cell": "Table of Contents",
   "title_sidebar": "Contents",
   "toc_cell": false,
   "toc_position": {},
   "toc_section_display": true,
   "toc_window_display": false
  },
  "varInspector": {
   "cols": {
    "lenName": 16,
    "lenType": 16,
    "lenVar": 40
   },
   "kernels_config": {
    "python": {
     "delete_cmd_postfix": "",
     "delete_cmd_prefix": "del ",
     "library": "var_list.py",
     "varRefreshCmd": "print(var_dic_list())"
    },
    "r": {
     "delete_cmd_postfix": ") ",
     "delete_cmd_prefix": "rm(",
     "library": "var_list.r",
     "varRefreshCmd": "cat(var_dic_list()) "
    }
   },
   "types_to_exclude": [
    "module",
    "function",
    "builtin_function_or_method",
    "instance",
    "_Feature"
   ],
   "window_display": false
  }
 },
 "nbformat": 4,
 "nbformat_minor": 2
}
